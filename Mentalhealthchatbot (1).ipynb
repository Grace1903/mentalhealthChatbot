{
 "cells": [
  {
   "cell_type": "code",
   "execution_count": null,
   "metadata": {
    "colab": {
     "base_uri": "https://localhost:8080/"
    },
    "id": "_7JcJ0i6cvrw",
    "outputId": "8c267dfe-1e5e-47b8-84c3-a89a4435b3a4"
   },
   "outputs": [],
   "source": [
    "!pip install langchain_groq\n"
   ]
  },
  {
   "cell_type": "code",
   "execution_count": null,
   "metadata": {
    "colab": {
     "base_uri": "https://localhost:8080/"
    },
    "id": "U9uuW2zRdNgp",
    "outputId": "09572fc2-7437-42b0-e654-49d83f359758"
   },
   "outputs": [],
   "source": [
    "from langchain_groq import ChatGroq\n",
    "llm= ChatGroq(\n",
    "    temperature=0,\n",
    "    groq_api_key =\"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\",\n",
    "    model_name =\"llama-3.3-70b-versatile\"\n",
    ")\n",
    "result = llm.invoke(\"Who are you?\")\n",
    "print(result.content)"
   ]
  },
  {
   "cell_type": "code",
   "execution_count": null,
   "metadata": {
    "colab": {
     "base_uri": "https://localhost:8080/"
    },
    "id": "KTORpLAFevJ9",
    "outputId": "efed2b4d-3b98-4621-bb39-d7d9d7409dd2"
   },
   "outputs": [],
   "source": [
    "!pip install pypdf\n"
   ]
  },
  {
   "cell_type": "code",
   "execution_count": null,
   "metadata": {
    "colab": {
     "base_uri": "https://localhost:8080/",
     "height": 875,
     "referenced_widgets": [
      "467d843e512a4da1808137667c2f73c5",
      "6983a9a27914417b9092edddabb340e2",
      "8176a5d3373d4142a995d1ffd5c1b195",
      "d9af8b0376c242dc87166a6a4b8387c2",
      "062f78c64d3449d797137e269e6c4b2b",
      "37a120e4447b4ee9bf6d9d02fc385072",
      "992ca90de4764b62acd433524185f10e",
      "c20775edb02947708ea6dfac425f2232",
      "a5b513cd33bc41de9547b0155c2b1e97",
      "94c415f966ad4a5fa9788e9d5a6e7a71",
      "aeeb6bfa895a44aeb1a843a87b3b9b9b",
      "5fd69f06ada84c429b26b722650f2454",
      "f55eac42045a400f94ad541acd1d8f64",
      "6e388d5ae12b44a784c6632c41456019",
      "751a128817774d74a7ab89b03627d7e9",
      "e8e5264850d34a689b0ff0086772980a",
      "a7b74a30e3fe4e06b74f1087f6693e72",
      "81cce749881941b1a3151bca879507f7",
      "9f4a973b9d654703bb0ce497e0daac6b",
      "41acb162eb5e463d91eaa8e7acccc9b1",
      "8c87736981124d8f9f95f8f250fbbad9",
      "3623426c13304cfa99824836b45a6752",
      "d0cac087bbfd44f2b939e42234a440b0",
      "1a5400878cac4738a062a9137d0d0a28",
      "6813cf20fea643a99dab188117176e1f",
      "43bd9eecfab0457f84cf1bac14885f54",
      "957d423d04684477ae99bc22eb1d567d",
      "fa60a0bb89dd43bd93a1fe05d385e224",
      "05bb799b311b419ca8a15a9dd4a14873",
      "2835a2e02f274819a8c88e5344c021d5",
      "20f65b1ed7124901bf4e81961575a4df",
      "a14be346dd4b432cbc527d1200fb1a4b",
      "6838e3382ca04f2cb96ae7d33fbd5f55",
      "9d790830829b488fbbcefffd7f3c2218",
      "9033d0b1bc2049c8be206a65e8a1e944",
      "dee754eb482f44f2b733278df17daa08",
      "16ed013e53274f78ac155a1f88e4a361",
      "c666f2be2d72487ebf153b50b6c9ee9e",
      "4a8ae8249634472dbb7eb35630db5a42",
      "5b57de8a61ab4c7882920f9ce07e493c",
      "f252e84f740f42ad8565b1a9c3b071cd",
      "e2be623f84224c769d7bb7b612a9621b",
      "d682e66f09e44e1a8e63ac19094a8803",
      "d8402c7a79e547109fbf18831aec25a7",
      "f2ede933702745d8ba7b538d8fb40f3d",
      "7bf20ad1da9e4a5f9d491f939739bcc8",
      "b9948fe281e94d1a856150d5f76acb52",
      "1953cbaae8f6409fa772657344de9056",
      "fc5e0143d76e4e5ab8245de68dc1699a",
      "84664fca829b481b8fe2d602825dd26c",
      "73139e9d013c4cfc9324c99d7d74bd68",
      "9e60b5438f6644e9a45cd83ee827f067",
      "cf9b8abc06a24e819f80eb8a79823ad2",
      "2a254a2ce28d474d8f78497920ff22d3",
      "0d4283bf486f450e90a8e6d389a9f8df",
      "5397ba06689548db9d3eb3b84aaf57d5",
      "9ba8756de1ea4d0e8a115cb3e4edc9a1",
      "2cffb41e342f4179801d63eb8af33b55",
      "9e018091af7d494bac1ab15fea5352ad",
      "adfabcfda6e4408995a6bdba0b550be6",
      "8f9fa4f2e6ad4c589f20528319db4255",
      "8e4e0eb3ec644d25ad34455159499643",
      "cb825c49f69b4150a824bfc5524a24d0",
      "1b638aa87fbc4e09bcd40a03f5032786",
      "5a1dcafa22b84902acf9cf737b809e9f",
      "b1a70a24ed68444194caf0ea0fa3aee6",
      "bad56c201e8044f5913f3a62023ebab5",
      "102649dc1490459bb25dbf26b200e098",
      "0c20724ef5d9476e870894fc4424a554",
      "ad805a851424460ca9d5f4cdd2306ade",
      "a0e12a5f2cf141deb5ad4772fef7169a",
      "3bdd52830fef400b9f525821b98a151a",
      "60540992aee94012b40b14c3262d38b6",
      "c6544275dc064afaa5d2aa6edcb0bdb3",
      "c7d2283b630a4a66973e23b6f118c853",
      "38160ab435c94c4ab9c4ca2f60580feb",
      "0160577b46174b9195fe0512d4abb0da",
      "dc74c8ad8c5f4e4ca95206076c60f40d",
      "d83a07af3d4f4772b3703685fce8524a",
      "b53493135e9e40c9bea0770f47ea9626",
      "ffcc6afb18104ac2b980c470bc52da7e",
      "db20f65e50df4bb29e040fe01a358710",
      "66cce74ebcf3493ba0c741ca390cf560",
      "1ff9dea403994c1e96e52b6b699c0789",
      "19c002189e3b4bbdba07322701e6735d",
      "9536a4df7e4d4e64afe8edcd4fd2811b",
      "4e26f0d63b0e4c66885354aa7e452ea2",
      "f733dd82cead4b46882fa9fdc91d569d",
      "bde61fecc8b244a791220dafa6849d3e",
      "f2b7e671872a439aace44da1d0e5f88c",
      "a31276919a594225a7cb217b09c6b4f7",
      "82fa44b7530b44c9941ca64964ef159d",
      "2e2d9eaeca764e64af3df862a6dd76ad",
      "bb6b96c3f2114caf8ba4af692776dd67",
      "8273a4a2fca04f30b7c336868498bcd1",
      "4aada1291c5f4b11bee02e4736909b90",
      "2a0a36c859564ec7b403fe594844f0aa",
      "f79b45ada63a4b5db3369eae59101397",
      "27b82d683806448cb41e97461b8351ab",
      "de9634587892452a85c36b8b3f67be66",
      "917160b043744a1b8f4a277a35b53e60",
      "f72f7cb769194e9fb302c0f248172a8a",
      "337070af710e4e3283b974b78caa85b1",
      "9df9f0bbe39c4aa6bb35ada34032777f",
      "794e85d64d0b460db36418c8456cf677",
      "c7f3974acead4a6890df0b878755fc4c",
      "cdb92e9e9e414102a3425b872b4039c0",
      "c2dc3792dc824bbdaf719412ebe059c0",
      "5af300aa9e7444f9916f7aa15de54726",
      "7b019871a9184158998381de6cce3362",
      "a7641befd3634b16bb387bad659debd2",
      "96fdbb588f1448289ecbf4d7e6d4541d",
      "e0e9c280f006446ab3225738479fb4c6",
      "d5be76229a4f41468aa34a3d42194f73",
      "7129ca62542949f4a93393764225e77a",
      "f0b195240699461ab2d76db59d9760c7",
      "69901954dbff48cab2d623069749f7bb",
      "c7e217ad4e5d44db934b7625d63f31d6",
      "8ea4c1a330274748a6e8efcbd5212fc8",
      "c523da88e0894d52abc651d00a72df51",
      "e2ae81d5696842298c1f71d07f922119"
     ]
    },
    "id": "Pe9Pr4iFewmd",
    "outputId": "dc65abca-c1c4-4266-9a24-0f642c0e8864"
   },
   "outputs": [],
   "source": [
    "from langchain.embeddings import HuggingFaceEmbeddings\n",
    "from langchain.document_loaders import PyPDFLoader # Changed from PyPDFDirectoryLoader\n",
    "from langchain.vectorstores import Chroma\n",
    "from langchain.chains import RetrievalQA\n",
    "from langchain.prompts import PromptTemplate\n",
    "from langchain.text_splitter import RecursiveCharacterTextSplitter\n",
    "from langchain_groq import ChatGroq # Import ChatGroq\n",
    "import os # Import os\n",
    "\n",
    "def initialize_llm():\n",
    "  llm = ChatGroq(\n",
    "      temperature=0,\n",
    "    groq_api_key =\"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\",\n",
    "    model_name =\"llama-3.3-70b-versatile\"\n",
    "\n",
    "  )\n",
    "  return llm\n",
    "\n",
    "def create_vector_db():\n",
    "  # loader = DirectoryLoader(\"/content/data/\", glob ='*.pdf', loader_cls = PyPDFDirectoryLoader) # Commented out DirectoryLoader\n",
    "  loader = PyPDFLoader(\"/content/data/mental_health_Document_250625_161048.pdf\") # Use PyPDFLoader with specific file path\n",
    "  documents = loader.load()\n",
    "  print(f\"Number of documents loaded: {len(documents)}\") # Added print statement\n",
    "  text_splitter = RecursiveCharacterTextSplitter(chunk_size = 500 , chunk_overlap = 50)\n",
    "  texts = text_splitter.split_documents(documents)\n",
    "  embeddings = HuggingFaceEmbeddings(model_name ='sentence-transformers/all-MiniLM-L6-v2') # Corrected typo\n",
    "  vector_db = Chroma.from_documents(texts,embeddings, persist_directory='./chroma_db') # Corrected variable name\n",
    "  vector_db.persist()\n",
    "\n",
    "  print(\"ChromaDB created and data saved\")\n",
    "  return vector_db\n",
    "\n",
    "def setup_qa_chain(vector_db, llm):\n",
    "  retriever=vector_db.as_retriever()\n",
    "  prompt_template =\"\"\" You are a compassionate mental health chatbot.Respond thoughtfully to the following question:\\n\",\n",
    "  \"{context}\\n\",\n",
    "  \"User:{question}\\n\",\n",
    "  \" Chatbot:\"\"\"\n",
    "  PROMPT =PromptTemplate(template = prompt_template, input_variables =['context','question'])\n",
    "  qa_chain =RetrievalQA.from_chain_type(\n",
    "      llm = llm,\n",
    "      chain_type =\"stuff\",\n",
    "      retriever = retriever ,\n",
    "      chain_type_kwargs = {\"prompt\":PROMPT}\n",
    "\n",
    "  )\n",
    "  return qa_chain\n",
    "\n",
    "def main():\n",
    "  print(\"initializing Chatbot\")\n",
    "  llm = initialize_llm()\n",
    "\n",
    "  db_path =\"./chroma_db\" # Corrected path\n",
    "  if os.path.exists(db_path): # Added check for db_path existence\n",
    "    print(\"Loading existing ChromaDB\")\n",
    "    embeddings = HuggingFaceEmbeddings(model_name='sentence-transformers/all-MiniLM-L6-v2') # Corrected typo\n",
    "    vector_db = Chroma(persist_directory=db_path, embedding_function=embeddings)\n",
    "  else:\n",
    "    print(\"Creating new ChromaDB\")\n",
    "    vector_db = create_vector_db()\n",
    "\n",
    "  qa_chain= setup_qa_chain(vector_db,llm)\n",
    "\n",
    "  while True:\n",
    "    query =input(\"\\nHuman:\")\n",
    "    if query.lower() == \"exit\":\n",
    "      print(\"Chatbot:take care of yourself,Goodbye\")\n",
    "      break\n",
    "    response = qa_chain.run(query)\n",
    "    print(f\"Chatbot:{response}\")\n",
    "\n",
    "\n",
    "if __name__ == \"__main__\":\n",
    "  main()"
   ]
  },
  {
   "cell_type": "code",
   "execution_count": null,
   "metadata": {
    "id": "2JzaSdy3O_67"
   },
   "outputs": [],
   "source": []
  },
  {
   "cell_type": "code",
   "execution_count": null,
   "metadata": {
    "colab": {
     "base_uri": "https://localhost:8080/"
    },
    "id": "QR-g93WXPCDu",
    "outputId": "1b21b86c-ffeb-4795-8f93-d667c8d3f5c6"
   },
   "outputs": [],
   "source": [
    "!pip install gradio\n"
   ]
  },
  {
   "cell_type": "code",
   "execution_count": null,
   "metadata": {
    "colab": {
     "base_uri": "https://localhost:8080/"
    },
    "id": "TaBPjS8vTD5l",
    "outputId": "046c01ac-ff64-4bf6-e92d-5d98d30f762a"
   },
   "outputs": [],
   "source": [
    "create_vector_db()"
   ]
  },
  {
   "cell_type": "code",
   "execution_count": null,
   "metadata": {
    "colab": {
     "base_uri": "https://localhost:8080/"
    },
    "id": "UrPFIs0qTYWM",
    "outputId": "09e2244c-bfe0-4650-ebd5-e415305c5e2a"
   },
   "outputs": [],
   "source": [
    "!pip install sentence_transformers"
   ]
  },
  {
   "cell_type": "code",
   "execution_count": null,
   "metadata": {
    "colab": {
     "base_uri": "https://localhost:8080/"
    },
    "id": "n8Y5aIphQ8Vi",
    "outputId": "a17d0ec9-30ed-422c-ae50-6a04a552d4d0"
   },
   "outputs": [],
   "source": [
    "!pip install langchain_groq langchain_core langchain_community"
   ]
  },
  {
   "cell_type": "code",
   "execution_count": null,
   "metadata": {
    "colab": {
     "base_uri": "https://localhost:8080/"
    },
    "id": "ibOswCAduQhB",
    "outputId": "c1abf44d-120e-4056-f8fa-860b083bfad7"
   },
   "outputs": [],
   "source": [
    "!pip install Chromadb"
   ]
  },
  {
   "cell_type": "code",
   "execution_count": null,
   "metadata": {
    "colab": {
     "base_uri": "https://localhost:8080/"
    },
    "id": "_Z4S0sz9j910",
    "outputId": "e37ac876-1cd2-4284-e3d3-7135d4dc6153"
   },
   "outputs": [],
   "source": [
    "!mkdir data"
   ]
  },
  {
   "cell_type": "code",
   "execution_count": null,
   "metadata": {
    "colab": {
     "base_uri": "https://localhost:8080/"
    },
    "id": "98478d65",
    "outputId": "cf6b9db9-a27a-486e-9d6d-d9f71889590f"
   },
   "outputs": [],
   "source": [
    "import os\n",
    "\n",
    "print(os.listdir(\"/content/data/\"))"
   ]
  },
  {
   "cell_type": "code",
   "execution_count": null,
   "metadata": {
    "colab": {
     "base_uri": "https://localhost:8080/",
     "height": 193
    },
    "id": "00fbf63c",
    "outputId": "4150bbbf-79be-469e-82d9-cbd61b094095"
   },
   "outputs": [],
   "source": [
    "create_vector_db()\n",
    "main()"
   ]
  },
  {
   "cell_type": "code",
   "execution_count": null,
   "metadata": {
    "colab": {
     "base_uri": "https://localhost:8080/"
    },
    "id": "7a35dcf5",
    "outputId": "338e8349-ca5d-495f-ff53-be507af4d48a"
   },
   "outputs": [],
   "source": [
    "import os\n",
    "print(os.listdir(\"/content/data/\"))"
   ]
  },
  {
   "cell_type": "code",
   "execution_count": null,
   "metadata": {
    "id": "c0c5e874"
   },
   "outputs": [],
   "source": [
    "!mkdir data"
   ]
  },
  {
   "cell_type": "code",
   "execution_count": null,
   "metadata": {
    "colab": {
     "base_uri": "https://localhost:8080/"
    },
    "id": "058fa776",
    "outputId": "22a69ed6-1c70-470b-bcdd-ae160e447d76"
   },
   "outputs": [],
   "source": [
    "import os\n",
    "print(os.listdir(\"/content/data/\"))"
   ]
  },
  {
   "cell_type": "code",
   "execution_count": null,
   "metadata": {
    "colab": {
     "base_uri": "https://localhost:8080/",
     "height": 802
    },
    "id": "eo4rjACXPyck",
    "outputId": "2ee29e17-e7aa-4954-87dc-bf352b618db8"
   },
   "outputs": [],
   "source": [
    "from langchain.embeddings import HuggingFaceEmbeddings\n",
    "from langchain.document_loaders import PyPDFLoader # Changed from PyPDFDirectoryLoader\n",
    "from langchain.vectorstores import Chroma\n",
    "from langchain.chains import RetrievalQA\n",
    "from langchain.prompts import PromptTemplate\n",
    "from langchain.text_splitter import RecursiveCharacterTextSplitter\n",
    "from langchain_groq import ChatGroq # Import ChatGroq\n",
    "import os # Import os\n",
    "import gradio as gr\n",
    "\n",
    "def initialize_llm():\n",
    "  llm = ChatGroq(\n",
    "      temperature=0,\n",
    "    groq_api_key =\"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\",\n",
    "    model_name =\"llama-3.3-70b-versatile\"\n",
    "\n",
    "  )\n",
    "  return llm\n",
    "\n",
    "def create_vector_db():\n",
    "  # loader = DirectoryLoader(\"/content/data/\", glob ='*.pdf', loader_cls = PyPDFDirectoryLoader) # Commented out DirectoryLoader\n",
    "  loader = PyPDFLoader(\"/content/data/mental_health_Document_250625_161048.pdf\") # Use PyPDFLoader with specific file path\n",
    "  documents = loader.load()\n",
    "  print(f\"Number of documents loaded: {len(documents)}\") # Added print statement\n",
    "  text_splitter = RecursiveCharacterTextSplitter(chunk_size = 500 , chunk_overlap = 50)\n",
    "  texts = text_splitter.split_documents(documents)\n",
    "  embeddings = HuggingFaceEmbeddings(model_name ='sentence-transformers/all-MiniLM-L6-v2') # Corrected typo\n",
    "  vector_db = Chroma.from_documents(texts,embeddings, persist_directory='./chroma_db') # Corrected variable name\n",
    "  vector_db.persist()\n",
    "\n",
    "  print(\"ChromaDB created and data saved\")\n",
    "  return vector_db\n",
    "\n",
    "def setup_qa_chain(vector_db, llm):\n",
    "  retriever=vector_db.as_retriever()\n",
    "  prompt_template =\"\"\" You are a compassionate mental health chatbot.Respond thoughtfully to the following question:\\n\",\n",
    "  \"{context}\\n\",\n",
    "  \"User:{question}\\n\",\n",
    "  \" Chatbot:\"\"\"\n",
    "  PROMPT =PromptTemplate(template = prompt_template, input_variables =['context','question'])\n",
    "  qa_chain =RetrievalQA.from_chain_type(\n",
    "      llm = llm,\n",
    "      chain_type =\"stuff\",\n",
    "      retriever = retriever ,\n",
    "      chain_type_kwargs = {\"prompt\":PROMPT}\n",
    "\n",
    "  )\n",
    "  return qa_chain\n",
    "\n",
    "def chatbot_response(user_input, history): # Keep history parameter as Gradio passes it\n",
    "  if not user_input.strip():\n",
    "    return \"please provide a valid input\" # Return only the response string\n",
    "  # Initialize LLM and QA chain within the response function or pass them\n",
    "  llm = initialize_llm()\n",
    "  db_path =\"./chroma_db\"\n",
    "  embeddings = HuggingFaceEmbeddings(model_name='sentence-transformers/all-MiniLM-L6-v2')\n",
    "  vector_db = Chroma(persist_directory=db_path, embedding_function=embeddings)\n",
    "  qa_chain= setup_qa_chain(vector_db,llm)\n",
    "\n",
    "  response=qa_chain.run(user_input) # Call qa_chain.run with user_input\n",
    "  return response # Return only the response string\n",
    "\n",
    "\n",
    "if __name__ == \"__main__\":\n",
    "  print(\"initializing Chatbot backend\")\n",
    "  llm = initialize_llm()\n",
    "\n",
    "  db_path =\"./chroma_db\" # Corrected path\n",
    "  if os.path.exists(db_path): # Added check for db_path existence\n",
    "    print(\"Loading existing ChromaDB\")\n",
    "    embeddings = HuggingFaceEmbeddings(model_name='sentence-transformers/all-MiniLM-L6-v2') # Corrected typo\n",
    "    vector_db = Chroma(persist_directory=db_path, embedding_function=embeddings)\n",
    "  else:\n",
    "    print(\"Creating new ChromaDB\")\n",
    "    vector_db = create_vector_db()\n",
    "\n",
    "  qa_chain= setup_qa_chain(vector_db,llm)\n",
    "\n",
    "  with gr.Blocks(theme= 'Repair/SHIKI@1.2.1')as app:\n",
    "       gr.Markdown(\"Mental Health Chatbot \") # Fixed syntax error\n",
    "       gr.Markdown(\"A compassionate chatbot designed to assist with mental well-being. Please note: For serious concerns, contact a professional.\") # Fixed syntax error\n",
    "\n",
    "       chatbot = gr.ChatInterface(fn=chatbot_response, title=\"Mental Health Chatbot\")\n",
    "\n",
    "       gr.Markdown(\"This chatbot provides general support. For urgent issues, seek help from licensed professionals.\")\n",
    "\n",
    "    # Modified fn to correctly pass history and expect a tuple return\n",
    "    # Removed duplicate ChatInterface line\n",
    "  app.launch(debug=True) # Added debug=True for more detailed output"
   ]
  },
  {
   "cell_type": "code",
   "execution_count": null,
   "metadata": {
    "colab": {
     "base_uri": "https://localhost:8080/"
    },
    "id": "jpeQbXj5KeNG",
    "outputId": "8d24636d-cf56-46f0-d5ea-803434a8d1e2"
   },
   "outputs": [],
   "source": [
    "!pip install nbstripout\n",
    "!nbstripout your_notebook.ipynb\n",
    "\n"
   ]
  },
  {
   "cell_type": "code",
   "execution_count": null,
   "metadata": {
    "colab": {
     "base_uri": "https://localhost:8080/",
     "height": 325
    },
    "id": "HxsnJYORK8XJ",
    "outputId": "b39e30e6-1523-4417-ac73-8fcbf805f49c"
   },
   "outputs": [],
   "source": [
    "from google.colab import files\n",
    "uploaded = files.upload()\n"
   ]
  },
  {
   "cell_type": "code",
   "execution_count": null,
   "metadata": {
    "colab": {
     "base_uri": "https://localhost:8080/"
    },
    "id": "F42t-9nVLNer",
    "outputId": "5a160231-6f00-4f58-ea01-301a36f6accc"
   },
   "outputs": [],
   "source": [
    "{'my_notebook.ipynb': 'my_notebook.ipynb'}\n"
   ]
  },
  {
   "cell_type": "code",
   "execution_count": null,
   "metadata": {
    "colab": {
     "base_uri": "https://localhost:8080/"
    },
    "id": "iOYvxuLnLVnJ",
    "outputId": "21f0283f-2b56-4979-c3b8-a9ab78f714ec"
   },
   "outputs": [],
   "source": [
    "!nbstripout my_notebook.ipynb\n"
   ]
  },
  {
   "cell_type": "code",
   "execution_count": null,
   "metadata": {
    "colab": {
     "base_uri": "https://localhost:8080/",
     "height": 38
    },
    "id": "2f1GYIeUOQ0z",
    "outputId": "1cef282e-b919-4b50-d2ae-0ba5d92659e0"
   },
   "outputs": [],
   "source": [
    "from google.colab import files\n",
    "uploaded = files.upload()\n"
   ]
  }
 ],
 "metadata": {
  "colab": {
   "provenance": []
  },
  "kernelspec": {
   "display_name": "Python 3",
   "name": "python3"
  },
  "language_info": {
   "name": "python"
  }
 },
 "nbformat": 4,
 "nbformat_minor": 0
}
